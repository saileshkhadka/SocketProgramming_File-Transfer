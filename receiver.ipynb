{
 "cells": [
  {
   "cell_type": "code",
   "execution_count": null,
   "metadata": {},
   "outputs": [],
   "source": [
    "import sys\n",
    "import socket\n",
    "\n",
    "\n",
    "\n",
    "RECVSERVER = socket.socket()         \n",
    "host = socket.gethostname() \n",
    "port = 113\n",
    "RECVSERVER.bind((host, port))\n",
    "\n",
    "\n",
    "recv_file = open('new.mkv','wb')\n",
    "RECVSERVER.listen(5)          \n",
    "while True:\n",
    "    c, addr = RECVSERVER.accept() \n",
    "    print (\"File will recv from:\"), addr\n",
    "    print (\"Start recv...\")\n",
    "    FILETORECV = c.recv(4096)\n",
    "    while (FILETORECV):\n",
    "        print (\"Receiving...\")\n",
    "        recv_file.write(FILETORECV)\n",
    "        FILETORECV = c.recv(4096)\n",
    "    recv_file.close()\n",
    "    print (\"File recv or converted sucessfully.\")\n",
    "    c.send('Message from client: File received sucessfully. tnx')\n",
    "c.close()\n",
    "sys.exit('closed by system')"
   ]
  },
  {
   "cell_type": "code",
   "execution_count": null,
   "metadata": {},
   "outputs": [],
   "source": []
  }
 ],
 "metadata": {
  "kernelspec": {
   "display_name": "Python 3",
   "language": "python",
   "name": "python3"
  },
  "language_info": {
   "codemirror_mode": {
    "name": "ipython",
    "version": 3
   },
   "file_extension": ".py",
   "mimetype": "text/x-python",
   "name": "python",
   "nbconvert_exporter": "python",
   "pygments_lexer": "ipython3",
   "version": "3.7.6"
  }
 },
 "nbformat": 4,
 "nbformat_minor": 4
}
