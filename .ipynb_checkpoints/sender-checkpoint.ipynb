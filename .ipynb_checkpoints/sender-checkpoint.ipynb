{
 "cells": [
  {
   "cell_type": "code",
   "execution_count": 15,
   "metadata": {},
   "outputs": [
    {
     "ename": "SyntaxError",
     "evalue": "invalid syntax (<ipython-input-15-1402d2a8b1b1>, line 1)",
     "output_type": "error",
     "traceback": [
      "\u001b[1;36m  File \u001b[1;32m\"<ipython-input-15-1402d2a8b1b1>\"\u001b[1;36m, line \u001b[1;32m1\u001b[0m\n\u001b[1;33m    you can covert any movie or pic or any other thing with this script.\u001b[0m\n\u001b[1;37m          ^\u001b[0m\n\u001b[1;31mSyntaxError\u001b[0m\u001b[1;31m:\u001b[0m invalid syntax\n"
     ]
    }
   ],
   "source": [
    "'''\n",
    "Author: Sailesh khadka\n",
    "\n",
    "you can covert any movie or pic or any other thing with this script.\n",
    "format -> tosend_file = open('YourFile.orginalFormat', 'rb')\n",
    "examples:\n",
    "tosend_file = open('sailesh.jpg', 'rb')\n",
    "tosend_file = open('sailesh.rb', 'rb')\n",
    "tosend_file = open('sailesh.pdf', 'rb')\n",
    "'''\n",
    "\n",
    "\n",
    "\n",
    "import socket  \n",
    "import sys\n",
    "\n",
    "\n",
    "\n",
    "TOSENDSERVER = socket.socket() \n",
    "host = socket.gethostname()\n",
    "port = 113                \n",
    "\n",
    "TOSENDSERVER.connect((host, port))\n",
    "try:\n",
    "    tosend_file = open('sailesh.mp4','rb')\n",
    "    print (\"File opened\")\n",
    "except Exception as fileerror:\n",
    "    print (\"Cannot open this file check this error: %s \") % str(fileerror)\n",
    "Filetosend = tosend_file.read(4069)\n",
    "while (Filetosend):\n",
    "    print (\"Sending your file...\")\n",
    "    TOSENDSERVER.send(Filetosend)\n",
    "    Filetosend = tosend_file.read(4096)\n",
    "tosend_file.close()\n",
    "print (\"File sended sucessfully\\n clossing...\")\n",
    "TOSENDSERVER.close()\n",
    "print ('Closed by system')"
   ]
  },
  {
   "cell_type": "code",
   "execution_count": null,
   "metadata": {},
   "outputs": [],
   "source": []
  }
 ],
 "metadata": {
  "kernelspec": {
   "display_name": "Python 3",
   "language": "python",
   "name": "python3"
  },
  "language_info": {
   "codemirror_mode": {
    "name": "ipython",
    "version": 3
   },
   "file_extension": ".py",
   "mimetype": "text/x-python",
   "name": "python",
   "nbconvert_exporter": "python",
   "pygments_lexer": "ipython3",
   "version": "3.7.6"
  }
 },
 "nbformat": 4,
 "nbformat_minor": 4
}
