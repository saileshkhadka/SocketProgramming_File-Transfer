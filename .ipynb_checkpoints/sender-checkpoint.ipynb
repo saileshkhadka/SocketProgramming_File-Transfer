{
 "cells": [
  {
   "cell_type": "code",
   "execution_count": 5,
   "metadata": {},
   "outputs": [
    {
     "name": "stdout",
     "output_type": "stream",
     "text": [
      "File opened\n",
      "File sended sucessfully\n",
      " clossing...\n",
      "Closed by system\n"
     ]
    }
   ],
   "source": [
    "import socket\n",
    "\n",
    "s = socket.socket()\n",
    "host = socket.gethostname()\n",
    "port = 8080\n",
    "s.bind((host,port))\n",
    "s.listen(1)\n",
    "print(host)\n",
    "print(\"Waiting for any incoming connections ... \")\n",
    "conn, addr = s.accept()\n",
    "print(addr, \"Has connected to the server\")\n",
    "\n",
    "filename = input(str(\"Please enter the filename of the file : \"))\n",
    "file = open(filename , 'rb')\n",
    "file_data = file.read(1024)\n",
    "conn.send(file_data)\n",
    "print(\"Data has been transmitted successfully\")"
   ]
  },
  {
   "cell_type": "code",
   "execution_count": null,
   "metadata": {},
   "outputs": [],
   "source": []
  }
 ],
 "metadata": {
  "kernelspec": {
   "display_name": "Python 3",
   "language": "python",
   "name": "python3"
  },
  "language_info": {
   "codemirror_mode": {
    "name": "ipython",
    "version": 3
   },
   "file_extension": ".py",
   "mimetype": "text/x-python",
   "name": "python",
   "nbconvert_exporter": "python",
   "pygments_lexer": "ipython3",
   "version": "3.7.6"
  }
 },
 "nbformat": 4,
 "nbformat_minor": 4
}
