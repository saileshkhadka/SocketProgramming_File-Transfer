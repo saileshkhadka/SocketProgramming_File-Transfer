{
 "cells": [
  {
   "cell_type": "code",
   "execution_count": null,
   "metadata": {},
   "outputs": [],
   "source": [
    "import socket\n",
    "s = socket.socket()\n",
    "host = input(str(\"Please enter the host address of the sender : \"))\n",
    "port = 8080\n",
    "s.connect((host,port))\n",
    "print(\"Connected ... \")\n",
    "\n",
    "filename = input(str(\"Please enter a filename for the incoming file : \"))\n",
    "file = open(filename, 'wb')\n",
    "file_data = s.recv(1024)\n",
    "file.write(file_data)\n",
    "file.close()\n",
    "print(\"File has been received successfully.\")"
   ]
  },
  {
   "cell_type": "code",
   "execution_count": null,
   "metadata": {},
   "outputs": [],
   "source": []
  }
 ],
 "metadata": {
  "kernelspec": {
   "display_name": "Python 3",
   "language": "python",
   "name": "python3"
  },
  "language_info": {
   "codemirror_mode": {
    "name": "ipython",
    "version": 3
   },
   "file_extension": ".py",
   "mimetype": "text/x-python",
   "name": "python",
   "nbconvert_exporter": "python",
   "pygments_lexer": "ipython3",
   "version": "3.7.6"
  }
 },
 "nbformat": 4,
 "nbformat_minor": 4
}
